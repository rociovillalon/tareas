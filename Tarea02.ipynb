{
  "nbformat": 4,
  "nbformat_minor": 0,
  "metadata": {
    "colab": {
      "provenance": []
    },
    "kernelspec": {
      "name": "python3",
      "display_name": "Python 3"
    },
    "language_info": {
      "name": "python"
    }
  },
  "cells": [
    {
      "cell_type": "markdown",
      "source": [],
      "metadata": {
        "id": "CvVwR6toPZ8D"
      }
    },
    {
      "cell_type": "markdown",
      "source": [],
      "metadata": {
        "id": "7_OecPAfRHTj"
      }
    },
    {
      "cell_type": "code",
      "source": [
        "## T"
      ],
      "metadata": {
        "id": "w6VhcSyjRIB8"
      },
      "execution_count": null,
      "outputs": []
    },
    {
      "cell_type": "markdown",
      "source": [
        "## **TAREA 2 Viernes 4 de octubre**\n",
        "La instrucción es generar un programa que combine variables, tipos de datos y condicionales para resolver un problema.\n",
        "\n",
        "**Problema 1**\n",
        "\n",
        "El primer problema consiste en generar un programa que imprima los números del 1 al 100.\n",
        "\n"
      ],
      "metadata": {
        "id": "_oiidVtTRK5y"
      }
    },
    {
      "cell_type": "code",
      "source": [
        "for numero in range(1, 101):\n",
        "    print(numero)"
      ],
      "metadata": {
        "colab": {
          "base_uri": "https://localhost:8080/"
        },
        "id": "3uihbs09SW8_",
        "outputId": "af760022-9f86-4e40-9d4a-7809fe9973bc"
      },
      "execution_count": 2,
      "outputs": [
        {
          "output_type": "stream",
          "name": "stdout",
          "text": [
            "1\n",
            "2\n",
            "3\n",
            "4\n",
            "5\n",
            "6\n",
            "7\n",
            "8\n",
            "9\n",
            "10\n",
            "11\n",
            "12\n",
            "13\n",
            "14\n",
            "15\n",
            "16\n",
            "17\n",
            "18\n",
            "19\n",
            "20\n",
            "21\n",
            "22\n",
            "23\n",
            "24\n",
            "25\n",
            "26\n",
            "27\n",
            "28\n",
            "29\n",
            "30\n",
            "31\n",
            "32\n",
            "33\n",
            "34\n",
            "35\n",
            "36\n",
            "37\n",
            "38\n",
            "39\n",
            "40\n",
            "41\n",
            "42\n",
            "43\n",
            "44\n",
            "45\n",
            "46\n",
            "47\n",
            "48\n",
            "49\n",
            "50\n",
            "51\n",
            "52\n",
            "53\n",
            "54\n",
            "55\n",
            "56\n",
            "57\n",
            "58\n",
            "59\n",
            "60\n",
            "61\n",
            "62\n",
            "63\n",
            "64\n",
            "65\n",
            "66\n",
            "67\n",
            "68\n",
            "69\n",
            "70\n",
            "71\n",
            "72\n",
            "73\n",
            "74\n",
            "75\n",
            "76\n",
            "77\n",
            "78\n",
            "79\n",
            "80\n",
            "81\n",
            "82\n",
            "83\n",
            "84\n",
            "85\n",
            "86\n",
            "87\n",
            "88\n",
            "89\n",
            "90\n",
            "91\n",
            "92\n",
            "93\n",
            "94\n",
            "95\n",
            "96\n",
            "97\n",
            "98\n",
            "99\n",
            "100\n"
          ]
        }
      ]
    },
    {
      "cell_type": "markdown",
      "source": [
        "**Problema 2**\n",
        "El segundo problema consiste en realizar un programa que imprima los números del 1 al 100 que sean divisibles entre 3 (con esto 0)"
      ],
      "metadata": {
        "id": "PVd5I6TuStz6"
      }
    },
    {
      "cell_type": "code",
      "source": [],
      "metadata": {
        "id": "33AT7g6mULZ2"
      },
      "execution_count": null,
      "outputs": []
    },
    {
      "cell_type": "code",
      "source": [
        "# Recorremos los números del 1 al 100\n",
        "for i in range(1, 101):\n",
        "    # Usamos el operador % para verificar si el número es divisible entre 3\n",
        "    if i % 3 == 0:\n",
        "        print(i)  # Imprimimos el número si es divisible entre 3\n",
        "\n"
      ],
      "metadata": {
        "colab": {
          "base_uri": "https://localhost:8080/"
        },
        "id": "a9Xjq6OhQzQH",
        "outputId": "5f52bd32-a3bf-4328-d88d-2b58b1af9514"
      },
      "execution_count": 4,
      "outputs": [
        {
          "output_type": "stream",
          "name": "stdout",
          "text": [
            "3\n",
            "6\n",
            "9\n",
            "12\n",
            "15\n",
            "18\n",
            "21\n",
            "24\n",
            "27\n",
            "30\n",
            "33\n",
            "36\n",
            "39\n",
            "42\n",
            "45\n",
            "48\n",
            "51\n",
            "54\n",
            "57\n",
            "60\n",
            "63\n",
            "66\n",
            "69\n",
            "72\n",
            "75\n",
            "78\n",
            "81\n",
            "84\n",
            "87\n",
            "90\n",
            "93\n",
            "96\n",
            "99\n"
          ]
        }
      ]
    },
    {
      "cell_type": "markdown",
      "source": [],
      "metadata": {
        "id": "TgWUIoKzRAMV"
      }
    },
    {
      "cell_type": "markdown",
      "source": [
        "**Problema 3**\n"
      ],
      "metadata": {
        "id": "Bwmvf0rwWpEF"
      }
    },
    {
      "cell_type": "code",
      "source": [
        "# Leer números\n",
        "num1 = 40\n",
        "num2 = 50\n",
        "\n",
        "# Sumar los dos números\n",
        "suma = num1 + num2\n",
        "\n",
        "# Comparar el resultado de la suma y mostrar el mensaje correspondiente\n",
        "if suma < 100:\n",
        "    print(\"menor a 100\")\n",
        "    print(suma)\n",
        "elif suma >= 100 and suma <= 150:\n",
        "    print(\"mayor a 100 y menor a 150\")\n",
        "    print(suma)\n",
        "else:\n",
        "    print(\"mayor a 150\")"
      ],
      "metadata": {
        "colab": {
          "base_uri": "https://localhost:8080/"
        },
        "id": "Ovx_YiYNWs6V",
        "outputId": "154dff5b-a9ed-48c6-9f53-f7caf6e0e906"
      },
      "execution_count": 9,
      "outputs": [
        {
          "output_type": "stream",
          "name": "stdout",
          "text": [
            "menor a 100\n",
            "90\n"
          ]
        }
      ]
    },
    {
      "cell_type": "markdown",
      "source": [
        "**Problema 4**\n"
      ],
      "metadata": {
        "id": "9trHLwvaYzPg"
      }
    },
    {
      "cell_type": "code",
      "source": [
        "#Problema 4\n",
        "edad = 20\n",
        "gusta_programar = False\n",
        "\n",
        "if edad > 18 and gusta_programar == True:\n",
        "  print(\"Eres mayor de 18 años y te gusta programar\")\n",
        "else:\n",
        "  print(\"Eres mayor de 18 años y no te gusta programar\")\n",
        ""
      ],
      "metadata": {
        "colab": {
          "base_uri": "https://localhost:8080/"
        },
        "id": "A9v4M1K4aVY3",
        "outputId": "95bbfddd-208a-41ae-fcf3-cf284a771aab"
      },
      "execution_count": 10,
      "outputs": [
        {
          "output_type": "stream",
          "name": "stdout",
          "text": [
            "Eres mayor de 18 años y no te gusta programar\n"
          ]
        }
      ]
    }
  ]
}